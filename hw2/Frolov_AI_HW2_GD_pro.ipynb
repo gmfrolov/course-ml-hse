{
  "nbformat": 4,
  "nbformat_minor": 0,
  "metadata": {
    "colab": {
      "provenance": []
    },
    "kernelspec": {
      "name": "python3",
      "display_name": "Python 3"
    },
    "language_info": {
      "name": "python"
    }
  },
  "cells": [
    {
      "cell_type": "markdown",
      "source": [
        "# **Домашнее задание 2: Градиентный спуск (pro)**\n",
        "\n",
        "В этом задании две части - теоретическая и практическая. Теорию можно набирать, используя LaTex или просто решать на листочке, сфотографировать и отправить вместе с заполненным ноутбуком в anytask.\n",
        "\n",
        "Максимальный балл за домашнее задание - 10."
      ],
      "metadata": {
        "id": "lJ1Hwqs18fSZ"
      }
    },
    {
      "cell_type": "markdown",
      "source": [
        "## Часть 1 (теоретическая)\n",
        "\n",
        "## Задание 1 (**1.5 балла**)\n",
        "\n",
        "В случае одномерной Ridge-регрессии минимизируется функция со штрафом:\n",
        "$$Q(w) = (y-xw)^T(y-xw)+\\lambda w^2,$$\n",
        "где $\\lambda$ - положительный параметр, штрафующий функцию за слишком большие значения $w$.\n",
        "\n",
        "1)  (**0.5 балла**) Найдите производную $\\nabla_w Q(w)$, выведите формулу для оптимального $w$.\n",
        "\n",
        "2) (**0.5 балла**) Найдите вторую производную $\\nabla^2_w Q(w)$. Убедитесь, что мы оказались в точке минимума.\n",
        "\n",
        "3) (**0.5 балла**) Выпишите шаг градиентного спуска в матричном виде."
      ],
      "metadata": {
        "id": "EMZ5My7kiPY_"
      }
    },
    {
      "cell_type": "markdown",
      "source": [
        "`Ваш ответ здесь`\n",
        "\n"
      ],
      "metadata": {
        "id": "LQMI7b9Y9KvW"
      }
    },
    {
      "cell_type": "markdown",
      "source": [
        "## Часть 2 (практическая).\n",
        "\n",
        "## Задание 2 (**1 балл**)\n",
        "\n",
        "Дана функция: $$f(x) = x\\cdot sin(5x) + 0.1 \\cdot x^2$$\n",
        "\n",
        "Для этой функции:\n",
        "\n",
        "- [ ] Реализуйте (или возьмите рассмотренный на занятии) метод градиетного спуска с условием остановки `stop=1e^-6` и шагом `eta=0.001`. **Градиетный спуск обязательно должен сохранять траекторию движения.**\n",
        "- [ ] Задайте стартовые точки x0, равные 0, 0.5, 1\n",
        "- [ ] Реализуйте нахождение точек минимума и максимума функции $f(x)$ (для нахождения максимума нам нужно в направлении градиента, а не антиградиента)\n",
        "- [ ] Проанализируйте результаты. Предположите, с чем они связаны. Ответьте на вопросы:\n",
        "    - Чему равны значения экстремумов?\n",
        "    - При старте из какой начальной точки найденные экстремумы совпадут?\n",
        "\n",
        "\n"
      ],
      "metadata": {
        "id": "_pGazqdK9Tvf"
      }
    },
    {
      "cell_type": "code",
      "source": [
        "import numpy as np\n",
        "import matplotlib.pyplot as plt\n",
        "# Функция и её производная\n",
        "def f(x):\n",
        "\n",
        "    result = x * np.sin(5*x) + 0.1 * x**2\n",
        "\n",
        "    return result\n",
        "\n",
        "def df(x):\n",
        "\n",
        "    result = np.sin(5*x) + 5*x * np.cos(5*x) + 0.2 * x\n",
        "\n",
        "    return result\n",
        "\n",
        "# Градиентный спуск\n",
        "def gradient_descent(f, df, x0, eta=0.001, max_iter=1000, tol=1e-6):\n",
        "    x_curr = x0\n",
        "    path = []\n",
        "    path.append((x_curr, df(x_curr), f(x_curr)))\n",
        "\n",
        "    for i in range(max_iter):\n",
        "        x_new = x_curr - eta * df(x_curr)\n",
        "        path.append((x_curr, df(x_curr), f(x_curr)))\n",
        "\n",
        "        if abs(x_new - x_curr) < tol:\n",
        "          return x_curr, path\n",
        "\n",
        "        x_curr = x_new\n",
        "\n",
        "    return x_curr, path\n",
        "\n",
        "\n",
        "# Поиск экстремумов\n",
        "def find_points(f, df, x0, eta, max_iter=1000, tol=1e-6):\n",
        "      min, path_min = gradient_descent(f=f, df=df, x0=x0, eta=eta, max_iter=max_iter, tol=tol)\n",
        "      max, path_max = gradient_descent(f=f, df=df, x0=x0, eta=-eta, max_iter=max_iter, tol=tol)\n",
        "      return (min, max, path_min, path_max)\n",
        "\n",
        "for xi in [0, 0.5, 1]:\n",
        "  min, max, path_min, path_max = find_points(f, df, x0=xi, eta=0.001, max_iter=1000, tol=1e-6)\n",
        "  print(f'x0 = {xi}: x_min = {min}')\n",
        "  print(f'x0 = {xi}: x_max = {max}')\n",
        "  x_min, df_min, f_min = zip(*path_min)\n",
        "  x_max, df_max, f_max = zip(*path_max)\n",
        "  plt.scatter(x_min, f_min, label=f'Steps from find min x0={xi}')\n",
        "  plt.scatter(x_max, f_max, label=f'Steps from find max x0={xi}')\n",
        "\n",
        "x_range = np.linspace(-2, 2, 500)\n",
        "y_range = f(x_range)\n",
        "\n",
        "plt.plot(x_range, y_range, label=\"f(x)\", color=\"blue\")\n",
        "plt.legend()"
      ],
      "metadata": {
        "id": "HJbAEs3_-zet",
        "colab": {
          "base_uri": "https://localhost:8080/",
          "height": 552
        },
        "outputId": "3838bd8c-440b-40c5-f42f-f8f8571faa4c"
      },
      "execution_count": 13,
      "outputs": [
        {
          "output_type": "stream",
          "name": "stdout",
          "text": [
            "x0 = 0: x_min = 0\n",
            "x0 = 0: x_max = 0\n",
            "x0 = 0.5: x_min = 0.975060876515715\n",
            "x0 = 0.5: x_max = 0.41185702181234396\n",
            "x0 = 1: x_min = 0.9751376478508075\n",
            "x0 = 1: x_max = 1.6035293061150784\n"
          ]
        },
        {
          "output_type": "execute_result",
          "data": {
            "text/plain": [
              "<matplotlib.legend.Legend at 0x7ef271467150>"
            ]
          },
          "metadata": {},
          "execution_count": 13
        },
        {
          "output_type": "display_data",
          "data": {
            "text/plain": [
              "<Figure size 640x480 with 1 Axes>"
            ],
            "image/png": "[encoded data removed]"
          },
          "metadata": {}
        }
      ]
    },
    {
      "cell_type": "markdown",
      "source": [
        "Алгоритм нашел правильные максимумы и минимумы, кроме максимума для начальной точки x0=0. Так как эта точка экстермум и производная в ней равна 0, то и шаг равен 0 и срабатывает критерий останова."
      ],
      "metadata": {
        "id": "xIGAWoPMN6M8"
      }
    },
    {
      "cell_type": "markdown",
      "source": [
        "## Задание 3 (**0.5 балла**).\n",
        "Напишите функцию, вычисляющую значение весов в линейной регрессии по точной (аналитически найденной) формуле."
      ],
      "metadata": {
        "id": "lm6_Ln0GoliG"
      }
    },
    {
      "cell_type": "code",
      "source": [
        "def ols_solution(X, y):\n",
        "    m, n = X.shape\n",
        "    X = np.hstack([np.ones((m, 1)), X])\n",
        "    w = np.linalg.inv(X.T @ X) @ X.T @ y\n",
        "    return w, X"
      ],
      "metadata": {
        "id": "ZrVvpU9miOga"
      },
      "execution_count": 5,
      "outputs": []
    },
    {
      "cell_type": "code",
      "source": [
        "X = np.array([\n",
        "    [1, 1],\n",
        "    [2, 3],\n",
        "    [4, 5],\n",
        "    [5, 6]\n",
        "])\n",
        "y = np.array([1, 2, 4, 5])\n",
        "w, X_new = ols_solution(X, y)\n",
        "print(f'w = {np.round(w, 2)}')\n",
        "X_new @ w"
      ],
      "metadata": {
        "colab": {
          "base_uri": "https://localhost:8080/"
        },
        "id": "5SXhykpiVHcq",
        "outputId": "6384f872-17d1-42aa-dbc7-7310da0e00e6"
      },
      "execution_count": 6,
      "outputs": [
        {
          "output_type": "stream",
          "name": "stdout",
          "text": [
            "w = [-0.  1.  0.]\n"
          ]
        },
        {
          "output_type": "execute_result",
          "data": {
            "text/plain": [
              "array([1., 2., 4., 5.])"
            ]
          },
          "metadata": {},
          "execution_count": 6
        }
      ]
    },
    {
      "cell_type": "markdown",
      "source": [
        "## Задание 5 (**1 балл**).\n",
        "Модифицируйте метод градиентного спуска с семинара так, чтобы это теперь был метод стохастического градиентного спуска."
      ],
      "metadata": {
        "id": "_shCsTQ1pVcU"
      }
    },
    {
      "cell_type": "code",
      "source": [
        "np.random.seed(42)\n",
        "\n",
        "def compute_cost(X, y, theta):\n",
        "    m = len(y)\n",
        "\n",
        "    cost = (1./m) * (np.linalg.norm(X @ theta - y) ** 2)\n",
        "    return cost\n",
        "\n",
        "\n",
        "def stochastic_gradient_descent(X, y, learning_rate, epochs=100, batch_size=1, max_iter=None, verbose=True):\n",
        "\n",
        "    X = np.hstack((np.ones((X.shape[0], 1)), X))\n",
        "    params = np.random.rand(X.shape[1])\n",
        "    m = X.shape[0]\n",
        "    idx = np.arange(m)\n",
        "\n",
        "    num_steps = m // batch_size\n",
        "    cost_track = np.zeros((epochs * num_steps,1))\n",
        "    iter = 0\n",
        "\n",
        "\n",
        "    for i in range(epochs):\n",
        "        np.random.shuffle(idx)\n",
        "        X_shuffled = X[idx]\n",
        "        y_shuffled = y[idx]\n",
        "\n",
        "        for j in range(0, num_steps, batch_size):\n",
        "\n",
        "          params = params - 2./batch_size * learning_rate * (X_shuffled[j: j + batch_size].T @ ((X_shuffled[j: j + batch_size] @ params) - y_shuffled[j: j + batch_size]))\n",
        "          if verbose:\n",
        "            cost_track[iter] = compute_cost(X_shuffled, y_shuffled, params)\n",
        "\n",
        "          iter += 1\n",
        "\n",
        "          if max_iter is not None and iter >= max_iter:\n",
        "            return cost_track[: max_iter], params\n",
        "    return cost_track, params"
      ],
      "metadata": {
        "id": "fTZWxz1zpb9R"
      },
      "execution_count": 7,
      "outputs": []
    },
    {
      "cell_type": "markdown",
      "source": [
        "## Задание 6 (**3 балла**).\n",
        "* **(0 баллов)**. Скопируйте метод градиентного спуска из семинара в этот ноутбук.\n",
        "\n",
        "* **(0.5 балла)**. Обучите линейную регрессию на данных, сгенерированных ниже, тремя методами (по точной формуле, с помощью GD и с помощью SGD) на данных для задачи регрессии (см. код). Для GD и SGD используйте learning_rate = 0.01, iterations=10000.\n",
        "\n",
        "* **(0.5 балла)**. С помощью каждого метода сделайте предсказание (на всех данных), вычислите качество предсказания r2 (from sklearn.metrics import r2_score). Для получения предсказания можете использовать функцию predict с семинара.\n",
        "\n",
        "\n",
        "Ответьте на следующие вопросы (каждый вопрос - **0.5 балла**):\n",
        "\n",
        "1) все ли методы справились с нахождением минимума? если нет, то почему какой-то из методов не справился?\n",
        "\n",
        "2) сравните время работы методов (используйте библиотеку time): замеряйте время работы соответствующей написанной вами функции.\n",
        "\n",
        "3) для методов GD и SGD нарисуйте графики (для каждого свой) зависимости ошибки (loss) от номера итерации.\n",
        "\n",
        "4) какой метод успешнее всего справился с задачей? (т.е. r2 наибольший)."
      ],
      "metadata": {
        "id": "WnRlUa9Npi9o"
      }
    },
    {
      "cell_type": "code",
      "source": [
        "from sklearn.datasets import make_regression\n",
        "import pandas as pd\n",
        "import numpy as np\n",
        "\n",
        "X, y, _ = make_regression(n_samples=100000,#number of samples\n",
        "                          n_features=10,#number of features\n",
        "                          n_informative=8,#number of useful features\n",
        "                          noise=100,#bias and standard deviation of the guassian noise\n",
        "                          coef=True,#true coefficient used to generated the data\n",
        "                          random_state=123)\n",
        "\n",
        "X = pd.DataFrame(data=X, columns=np.arange(0, X.shape[1]))\n",
        "X[10] = X[6] + X[7] + np.random.random()*0.01"
      ],
      "metadata": {
        "id": "LBu41KSpqbbI"
      },
      "execution_count": 8,
      "outputs": []
    },
    {
      "cell_type": "code",
      "source": [
        "# your code here\n",
        "def gradient_descent(X, y, learning_rate, iterations, verbose=True):\n",
        "\n",
        "    X = np.hstack((np.ones((X.shape[0], 1)), X))\n",
        "    params = np.random.rand(X.shape[1])\n",
        "\n",
        "    m = X.shape[0]\n",
        "\n",
        "    cost_track = np.zeros((iterations,1))\n",
        "\n",
        "    for i in range(iterations):\n",
        "        params = params - 2./m * learning_rate * (X.T @ ((X @ params) - y))\n",
        "\n",
        "        if verbose:\n",
        "          cost_track[i] = compute_cost(X, y, params)\n",
        "\n",
        "    return cost_track, params\n",
        "\n",
        "def predict(X, params):\n",
        "    X = np.hstack((np.ones((X.shape[0], 1)), X))\n",
        "    return X @ params"
      ],
      "metadata": {
        "id": "f1SE0-oUtVlO"
      },
      "execution_count": 9,
      "outputs": []
    },
    {
      "cell_type": "code",
      "source": [
        "from sklearn.metrics import r2_score\n",
        "import time\n",
        "time0 = time.time()\n",
        "w_ols, _ = ols_solution(X, y)\n",
        "time1 = time.time()\n",
        "\n",
        "track_gd, w_gd = gradient_descent(X, y, 0.01, 10000)\n",
        "time2 = time.time()\n",
        "\n",
        "track_sgd, w_sgd = stochastic_gradient_descent(X, y, 0.001, 100, 1, 10000)\n",
        "time3 = time.time()\n",
        "\n",
        "pred_ols = predict(X, w_ols)\n",
        "pred_gd = predict(X, w_gd)\n",
        "pred_sgd = predict(X, w_sgd)\n",
        "\n",
        "print(f\"ols: {time1 - time0:.3f} секунд\")\n",
        "print(f\"gd: {time2 - time1:.3f} секунд\")\n",
        "print(f\"sgd: {time3 - time2:.3f} секунд\")\n",
        "\n",
        "print(f'ols: {r2_score(y, pred_ols)}')\n",
        "print(f'gd: {r2_score(y, pred_gd)}')\n",
        "print(f'sgd: {r2_score(y, pred_sgd)}')"
      ],
      "metadata": {
        "colab": {
          "base_uri": "https://localhost:8080/"
        },
        "id": "p0410Ew6dOiv",
        "outputId": "a652b44c-a0b6-47f6-9761-61bb98333028"
      },
      "execution_count": 10,
      "outputs": [
        {
          "output_type": "stream",
          "name": "stdout",
          "text": [
            "ols: 0.019 секунд\n",
            "gd: 9.059 секунд\n",
            "sgd: 3.403 секунд\n",
            "ols: 0.7511401029736604\n",
            "gd: 0.7554626185750483\n",
            "sgd: 0.7498245412748407\n"
          ]
        }
      ]
    },
    {
      "cell_type": "code",
      "source": [
        "plt.subplot(2,1,1)\n",
        "plt.plot(track_gd, label='track_gd')\n",
        "plt.legend()\n",
        "plt.subplot(2,1,2)\n",
        "plt.plot(track_sgd, label='track_sgd')\n",
        "plt.legend()"
      ],
      "metadata": {
        "colab": {
          "base_uri": "https://localhost:8080/",
          "height": 447
        },
        "id": "chajFkFkv1yp",
        "outputId": "0e2c0dbd-9920-4798-bcf7-64aaec6f8ca2"
      },
      "execution_count": 11,
      "outputs": [
        {
          "output_type": "execute_result",
          "data": {
            "text/plain": [
              "<matplotlib.legend.Legend at 0x7ef271513a90>"
            ]
          },
          "metadata": {},
          "execution_count": 11
        },
        {
          "output_type": "display_data",
          "data": {
            "text/plain": [
              "<Figure size 640x480 with 2 Axes>"
            ],
            "image/png": "[encoded data removed]"
          },
          "metadata": {}
        }
      ]
    },
    {
      "cell_type": "markdown",
      "source": [
        "1) все ли методы справились с нахождением минимума? если нет, то почему какой-то из методов не справился?\n",
        "\n",
        "    Все методы справились с задачей\n",
        "\n",
        "2) сравните время работы методов (используйте библиотеку time): замеряйте время работы соответствующей написанной вами функции.\n",
        "\n",
        "    Самым быстрым оказался аналитический метод 0,015 секунд.\n",
        "    Sgd оказался вторым 0.14 секунды порядка бысрее gd не считать loss по всей Худщий по времени gd 14 секунд.\n",
        "    \n",
        "    Из экперементов без вычислений loss на каждом шаге.\n",
        "\n",
        "\n",
        "4) какой метод успешнее всего справился с задачей? (т.е. r2 наибольший).\n",
        "\n",
        "    Успешнее всего справился gd, чуть хуже ols. У sgd есть разброс значений на несколько сотых от запуска к запуску, ввиду особеностей метода."
      ],
      "metadata": {
        "id": "2zrdVgQrtcAn"
      }
    },
    {
      "cell_type": "markdown",
      "source": [
        "## Задание 7 (1.5 балла).\n",
        "\n",
        "* **(0.5 балла)**. Добавьте в функцию из задания 5 L2-регуляризацию и, соответственно, новый аргумент - коэффициент при регуляризаторе.\n",
        "\n",
        "* **(1 балл)**. На сгенерированных выше данных обучите модифицированный алгоритм SGD с регуляризацией: в цикле перебирайте значения коэффициента регуляризации от 0.1 до 1 с шагом 0.1. Для каждого значения обучите модель и сделайте предсказание, выведите значение r2. Для какого значения коэффициента регуляризации получилось наилучшее качество r2, почему?"
      ],
      "metadata": {
        "id": "wYmzzJVV54zT"
      }
    },
    {
      "cell_type": "code",
      "source": [
        "# your code here\n",
        "def stochastic_gradient_descent_l2(X, y, learning_rate, epochs=100, batch_size=1, max_iter=None, verbose=True, alpha=1):\n",
        "\n",
        "    X = np.hstack((np.ones((X.shape[0], 1)), X))\n",
        "    params = np.random.rand(X.shape[1])\n",
        "    m = X.shape[0]\n",
        "    idx = np.arange(m)\n",
        "\n",
        "    num_steps = m // batch_size\n",
        "    cost_track = np.zeros((epochs * num_steps,1))\n",
        "    iter = 0\n",
        "\n",
        "\n",
        "    for i in range(epochs):\n",
        "        np.random.shuffle(idx)\n",
        "        X_shuffled = X[idx]\n",
        "        y_shuffled = y[idx]\n",
        "\n",
        "        for j in range(0, num_steps, batch_size):\n",
        "          X_batch = X_shuffled[j: j + batch_size]\n",
        "          y_batch = y_shuffled[j: j + batch_size]\n",
        "          params = params - 2./batch_size * learning_rate * (X_shuffled[j: j + batch_size].T @ ((X_batch @ params) - y_batch)) - learning_rate * alpha * params\n",
        "          if verbose:\n",
        "            cost_track[iter] = compute_cost(X_shuffled, y_shuffled, params)\n",
        "\n",
        "          iter += 1\n",
        "\n",
        "          if max_iter is not None and iter >= max_iter:\n",
        "            return cost_track[: max_iter], params\n",
        "    return cost_track, params"
      ],
      "metadata": {
        "id": "b_hC1Ehi612d"
      },
      "execution_count": 37,
      "outputs": []
    },
    {
      "cell_type": "code",
      "source": [
        "for alpha in np.linspace(0.0, 1, 11):\n",
        "  track_sgd_l2, w_sgd_l2 = stochastic_gradient_descent_l2(X, y, 0.001, 100, 1, 100000, alpha=alpha, verbose=False)\n",
        "  pred_sgd_l2 = predict(X, w_sgd_l2)\n",
        "  print(f'sgd_l2: {r2_score(y, pred_sgd_l2):.3f} for alpha={alpha:.1f}')"
      ],
      "metadata": {
        "colab": {
          "base_uri": "https://localhost:8080/"
        },
        "id": "YgRG-ERyFmCC",
        "outputId": "51bf49fe-e96a-4bef-a2b9-636e2919623a"
      },
      "execution_count": 83,
      "outputs": [
        {
          "output_type": "stream",
          "name": "stdout",
          "text": [
            "sgd_l2: 0.752 for alpha=0.0\n",
            "sgd_l2: 0.751 for alpha=0.1\n",
            "sgd_l2: 0.748 for alpha=0.2\n",
            "sgd_l2: 0.742 for alpha=0.3\n",
            "sgd_l2: 0.735 for alpha=0.4\n",
            "sgd_l2: 0.733 for alpha=0.5\n",
            "sgd_l2: 0.735 for alpha=0.6\n",
            "sgd_l2: 0.715 for alpha=0.7\n",
            "sgd_l2: 0.722 for alpha=0.8\n",
            "sgd_l2: 0.699 for alpha=0.9\n",
            "sgd_l2: 0.702 for alpha=1.0\n"
          ]
        }
      ]
    },
    {
      "cell_type": "markdown",
      "source": [
        "    Лучший результат с alpha=0.1 от запуска к запуску к запуску по-разному. Но без регудяризации модель справляется чуть лучше.\n",
        "\n",
        "    Лучший R_2 = 0.754\n",
        "\n",
        "    Так как в данных есть небольшая линейная зависимость и шум, то не большой штраф уменьшит веса, чтобы модель стала проще. При слишком малых alpha модель слишком сложна и обощающая способность падает. При слишком больших модель недоубучается.\n",
        "\n",
        "    На практике же получили, что без регуляризации получается лучше, что странно. Возможно это связано с тем что мы обучаем на всех данных"
      ],
      "metadata": {
        "id": "HBzritQYTUdp"
      }
    },
    {
      "cell_type": "markdown",
      "source": [
        "## Задание 8 (2 балла)\n",
        "\n",
        "Реализуйте на выбор одну из оптимизаций градиентного спуска - Momentum или  AdaGrad. Необходимые выкладки вы можете подсмотреть [здесь](https://education.yandex.ru/handbook/ml/article/optimizaciya-v-ml)."
      ],
      "metadata": {
        "id": "zMUiRyCiCB3E"
      }
    },
    {
      "cell_type": "code",
      "source": [
        "def modified_grad_descent(X, y, learning_rate=0.1, epochs=100, batch_size=1, max_iter=None, verbose=True, momentum=0.1): # добавьте в аргументы также специфические для метода оптимизации гиперпараметры\n",
        "    # your code here\n",
        "\n",
        "    X = np.hstack((np.ones((X.shape[0], 1)), X))\n",
        "    params = np.random.rand(X.shape[1])\n",
        "    m = X.shape[0]\n",
        "    idx = np.arange(m)\n",
        "\n",
        "    num_steps = m // batch_size\n",
        "    cost_track = np.zeros((epochs * num_steps,1))\n",
        "    iter = 0\n",
        "\n",
        "\n",
        "    for i in range(epochs):\n",
        "        np.random.shuffle(idx)\n",
        "        X_shuffled = X[idx]\n",
        "        y_shuffled = y[idx]\n",
        "\n",
        "        for j in range(0, num_steps, batch_size):\n",
        "\n",
        "          delta_params = -momentum * params - 2./batch_size * learning_rate * (X_shuffled[j: j + batch_size].T @ ((X_shuffled[j: j + batch_size] @ params) - y_shuffled[j: j + batch_size]))\n",
        "          params = params + delta_params\n",
        "          if verbose:\n",
        "            cost_track[iter] = compute_cost(X_shuffled, y_shuffled, params)\n",
        "\n",
        "          iter += 1\n",
        "\n",
        "          if max_iter is not None and iter >= max_iter:\n",
        "            return cost_track[: max_iter], params\n",
        "    return cost_track, params"
      ],
      "metadata": {
        "id": "ID9ervHwCyc7"
      },
      "execution_count": 106,
      "outputs": []
    },
    {
      "cell_type": "code",
      "source": [
        "track_mtm, w_mtm = modified_grad_descent(X, y, 0.001, 100, 1, 10000, momentum=0.00000001, verbose=False)\n",
        "pred_mtm = predict(X, w_mtm)\n",
        "print(f'momentum: {r2_score(y, pred_mtm):.3f} for beta={0.1:.1f}')"
      ],
      "metadata": {
        "colab": {
          "base_uri": "https://localhost:8080/"
        },
        "id": "dVr0EEtWXBxc",
        "outputId": "25f787f4-543c-4817-a5c0-aa7dfbf53d06"
      },
      "execution_count": 151,
      "outputs": [
        {
          "output_type": "stream",
          "name": "stdout",
          "text": [
            "momentum: 0.751 for beta=0.1\n"
          ]
        }
      ]
    },
    {
      "cell_type": "markdown",
      "source": [
        "## Бонус\n",
        "\n",
        "## Задание 9 (0.5 балла)\n",
        "\n",
        "Существует [метод Ньютона](https://en.wikipedia.org/wiki/Newton%27s_method_in_optimization) (метод второго порядка) для поиска минимума функции.\n",
        "\n",
        "Известно, что методы второго порядка точнее, чем методы первого порядка (то есть те, которые используют только первую производную для оптимизации). Как вы думаете, почему в оптимизации функций потерь все формулы используют только производные первого порядка? Почему не используют метод Ньютона?"
      ],
      "metadata": {
        "id": "tP182Wbyh8xg"
      }
    },
    {
      "cell_type": "markdown",
      "source": [
        "    В методе Ньютона требуется вычислиять гессиан и обращать его, что для большого количества признаков будет очень догим и затратным по памяти процессом.\n",
        "\n",
        "    Так же он плохо справляется с задаче если мы стартуем из точки далекой от минимума и требуется подбирать шаг обучения\n",
        "\n",
        "    Квазиньютоновские методы отчасти рещают проблемы метода Ньютона, но они все еще затратны вычислительно и по памяти в сравнении с SGD и для больших датасетов они не практичны."
      ],
      "metadata": {
        "id": "QBHOY5Ngi_C2"
      }
    },
    {
      "cell_type": "markdown",
      "source": [
        "## **Часть Котобонус** 🐈\n",
        "\n",
        "Ура-ура, с вами снова кот, который может добавить вам баллы!\n",
        "- 0.25, если вы угадаете, чей он\n",
        "- 0.05 если просто предположите\n",
        "\n",
        "**Подсказка:** кот одной из наших замечательных ассистенток!\n",
        "\n",
        "\n",
        "[Кайфующий кот](https://ibb.co/qxjz2tp)"
      ],
      "metadata": {
        "id": "u7hKRuViF7hv"
      }
    },
    {
      "cell_type": "code",
      "source": [],
      "metadata": {
        "id": "Hchpz56wGEzA"
      },
      "execution_count": null,
      "outputs": []
    }
  ]
}